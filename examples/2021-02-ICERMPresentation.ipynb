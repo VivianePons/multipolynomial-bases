{
 "cells": [
  {
   "cell_type": "markdown",
   "metadata": {},
   "source": [
    "# Bases of multivariate polynomials\n",
    "\n",
    "Viviane Pons, Université Paris-Saclay\n",
    "\n",
    "ICERM -- Feb 2021\n",
    "\n",
    "*This work has been inspried by Alain Lascoux (1944 -- 2013)*\n",
    "\n",
    "## Symmetric functions"
   ]
  },
  {
   "cell_type": "code",
   "execution_count": 1,
   "metadata": {},
   "outputs": [
    {
     "data": {
      "text/plain": [
       "Symmetric Functions over Rational Field"
      ]
     },
     "execution_count": 1,
     "metadata": {},
     "output_type": "execute_result"
    }
   ],
   "source": [
    "Sym = SymmetricFunctions(QQ); Sym"
   ]
  },
  {
   "cell_type": "code",
   "execution_count": 2,
   "metadata": {},
   "outputs": [
    {
     "data": {
      "text/plain": [
       "Symmetric Functions over Rational Field in the monomial basis"
      ]
     },
     "execution_count": 2,
     "metadata": {},
     "output_type": "execute_result"
    }
   ],
   "source": [
    "m = Sym.monomial(); m"
   ]
  },
  {
   "cell_type": "code",
   "execution_count": 3,
   "metadata": {},
   "outputs": [
    {
     "data": {
      "text/plain": [
       "m[2, 1, 1]"
      ]
     },
     "execution_count": 3,
     "metadata": {},
     "output_type": "execute_result"
    }
   ],
   "source": [
    "m[2,1,1] # indexed by the partition [2,1,1]"
   ]
  },
  {
   "cell_type": "code",
   "execution_count": 4,
   "metadata": {},
   "outputs": [
    {
     "ename": "ValueError",
     "evalue": "[1, 2] is not an element of Partitions",
     "output_type": "error",
     "traceback": [
      "\u001b[0;31m---------------------------------------------------------------------------\u001b[0m",
      "\u001b[0;31mValueError\u001b[0m                                Traceback (most recent call last)",
      "\u001b[0;32m<ipython-input-4-05c8deca754b>\u001b[0m in \u001b[0;36m<module>\u001b[0;34m\u001b[0m\n\u001b[0;32m----> 1\u001b[0;31m \u001b[0mm\u001b[0m\u001b[0;34m[\u001b[0m\u001b[0mInteger\u001b[0m\u001b[0;34m(\u001b[0m\u001b[0;36m1\u001b[0m\u001b[0;34m)\u001b[0m\u001b[0;34m,\u001b[0m\u001b[0mInteger\u001b[0m\u001b[0;34m(\u001b[0m\u001b[0;36m2\u001b[0m\u001b[0;34m)\u001b[0m\u001b[0;34m]\u001b[0m \u001b[0;31m# does not work becase [1,2] is not a partition\u001b[0m\u001b[0;34m\u001b[0m\u001b[0;34m\u001b[0m\u001b[0m\n\u001b[0m",
      "\u001b[0;32m~/sage/local/lib/python3.8/site-packages/sage/combinat/sf/sfa.py\u001b[0m in \u001b[0;36m__getitem__\u001b[0;34m(self, c)\u001b[0m\n\u001b[1;32m   1608\u001b[0m                 \u001b[0mc\u001b[0m \u001b[0;34m=\u001b[0m \u001b[0mC\u001b[0m\u001b[0;34m(\u001b[0m\u001b[0;34m[\u001b[0m\u001b[0mc\u001b[0m\u001b[0;34m]\u001b[0m\u001b[0;34m)\u001b[0m\u001b[0;34m\u001b[0m\u001b[0;34m\u001b[0m\u001b[0m\n\u001b[1;32m   1609\u001b[0m             \u001b[0;32melse\u001b[0m\u001b[0;34m:\u001b[0m\u001b[0;34m\u001b[0m\u001b[0;34m\u001b[0m\u001b[0m\n\u001b[0;32m-> 1610\u001b[0;31m                 \u001b[0mc\u001b[0m \u001b[0;34m=\u001b[0m \u001b[0mC\u001b[0m\u001b[0;34m(\u001b[0m\u001b[0mc\u001b[0m\u001b[0;34m)\u001b[0m\u001b[0;34m\u001b[0m\u001b[0;34m\u001b[0m\u001b[0m\n\u001b[0m\u001b[1;32m   1611\u001b[0m         \u001b[0;32mreturn\u001b[0m \u001b[0mself\u001b[0m\u001b[0;34m.\u001b[0m\u001b[0mmonomial\u001b[0m\u001b[0;34m(\u001b[0m\u001b[0mc\u001b[0m\u001b[0;34m)\u001b[0m\u001b[0;34m\u001b[0m\u001b[0;34m\u001b[0m\u001b[0m\n\u001b[1;32m   1612\u001b[0m \u001b[0;34m\u001b[0m\u001b[0m\n",
      "\u001b[0;32m~/sage/local/lib/python3.8/site-packages/sage/structure/parent.pyx\u001b[0m in \u001b[0;36msage.structure.parent.Parent.__call__ (build/cythonized/sage/structure/parent.c:9337)\u001b[0;34m()\u001b[0m\n\u001b[1;32m    898\u001b[0m         \u001b[0;32mif\u001b[0m \u001b[0mmor\u001b[0m \u001b[0;32mis\u001b[0m \u001b[0;32mnot\u001b[0m \u001b[0;32mNone\u001b[0m\u001b[0;34m:\u001b[0m\u001b[0;34m\u001b[0m\u001b[0;34m\u001b[0m\u001b[0m\n\u001b[1;32m    899\u001b[0m             \u001b[0;32mif\u001b[0m \u001b[0mno_extra_args\u001b[0m\u001b[0;34m:\u001b[0m\u001b[0;34m\u001b[0m\u001b[0;34m\u001b[0m\u001b[0m\n\u001b[0;32m--> 900\u001b[0;31m                 \u001b[0;32mreturn\u001b[0m \u001b[0mmor\u001b[0m\u001b[0;34m.\u001b[0m\u001b[0m_call_\u001b[0m\u001b[0;34m(\u001b[0m\u001b[0mx\u001b[0m\u001b[0;34m)\u001b[0m\u001b[0;34m\u001b[0m\u001b[0;34m\u001b[0m\u001b[0m\n\u001b[0m\u001b[1;32m    901\u001b[0m             \u001b[0;32melse\u001b[0m\u001b[0;34m:\u001b[0m\u001b[0;34m\u001b[0m\u001b[0;34m\u001b[0m\u001b[0m\n\u001b[1;32m    902\u001b[0m                 \u001b[0;32mreturn\u001b[0m \u001b[0mmor\u001b[0m\u001b[0;34m.\u001b[0m\u001b[0m_call_with_args\u001b[0m\u001b[0;34m(\u001b[0m\u001b[0mx\u001b[0m\u001b[0;34m,\u001b[0m \u001b[0margs\u001b[0m\u001b[0;34m,\u001b[0m \u001b[0mkwds\u001b[0m\u001b[0;34m)\u001b[0m\u001b[0;34m\u001b[0m\u001b[0;34m\u001b[0m\u001b[0m\n",
      "\u001b[0;32m~/sage/local/lib/python3.8/site-packages/sage/structure/coerce_maps.pyx\u001b[0m in \u001b[0;36msage.structure.coerce_maps.DefaultConvertMap_unique._call_ (build/cythonized/sage/structure/coerce_maps.c:4624)\u001b[0;34m()\u001b[0m\n\u001b[1;32m    159\u001b[0m                 \u001b[0mprint\u001b[0m\u001b[0;34m(\u001b[0m\u001b[0mtype\u001b[0m\u001b[0;34m(\u001b[0m\u001b[0mC\u001b[0m\u001b[0;34m)\u001b[0m\u001b[0;34m,\u001b[0m \u001b[0mC\u001b[0m\u001b[0;34m)\u001b[0m\u001b[0;34m\u001b[0m\u001b[0;34m\u001b[0m\u001b[0m\n\u001b[1;32m    160\u001b[0m                 \u001b[0mprint\u001b[0m\u001b[0;34m(\u001b[0m\u001b[0mtype\u001b[0m\u001b[0;34m(\u001b[0m\u001b[0mC\u001b[0m\u001b[0;34m.\u001b[0m\u001b[0m_element_constructor\u001b[0m\u001b[0;34m)\u001b[0m\u001b[0;34m,\u001b[0m \u001b[0mC\u001b[0m\u001b[0;34m.\u001b[0m\u001b[0m_element_constructor\u001b[0m\u001b[0;34m)\u001b[0m\u001b[0;34m\u001b[0m\u001b[0;34m\u001b[0m\u001b[0m\n\u001b[0;32m--> 161\u001b[0;31m             \u001b[0;32mraise\u001b[0m\u001b[0;34m\u001b[0m\u001b[0;34m\u001b[0m\u001b[0m\n\u001b[0m\u001b[1;32m    162\u001b[0m \u001b[0;34m\u001b[0m\u001b[0m\n\u001b[1;32m    163\u001b[0m     \u001b[0mcpdef\u001b[0m \u001b[0mElement\u001b[0m \u001b[0m_call_with_args\u001b[0m\u001b[0;34m(\u001b[0m\u001b[0mself\u001b[0m\u001b[0;34m,\u001b[0m \u001b[0mx\u001b[0m\u001b[0;34m,\u001b[0m \u001b[0margs\u001b[0m\u001b[0;34m=\u001b[0m\u001b[0;34m(\u001b[0m\u001b[0;34m)\u001b[0m\u001b[0;34m,\u001b[0m \u001b[0mkwds\u001b[0m\u001b[0;34m=\u001b[0m\u001b[0;34m{\u001b[0m\u001b[0;34m}\u001b[0m\u001b[0;34m)\u001b[0m\u001b[0;34m:\u001b[0m\u001b[0;34m\u001b[0m\u001b[0;34m\u001b[0m\u001b[0m\n",
      "\u001b[0;32m~/sage/local/lib/python3.8/site-packages/sage/structure/coerce_maps.pyx\u001b[0m in \u001b[0;36msage.structure.coerce_maps.DefaultConvertMap_unique._call_ (build/cythonized/sage/structure/coerce_maps.c:4516)\u001b[0;34m()\u001b[0m\n\u001b[1;32m    154\u001b[0m         \u001b[0mcdef\u001b[0m \u001b[0mParent\u001b[0m \u001b[0mC\u001b[0m \u001b[0;34m=\u001b[0m \u001b[0mself\u001b[0m\u001b[0;34m.\u001b[0m\u001b[0m_codomain\u001b[0m\u001b[0;34m\u001b[0m\u001b[0;34m\u001b[0m\u001b[0m\n\u001b[1;32m    155\u001b[0m         \u001b[0;32mtry\u001b[0m\u001b[0;34m:\u001b[0m\u001b[0;34m\u001b[0m\u001b[0;34m\u001b[0m\u001b[0m\n\u001b[0;32m--> 156\u001b[0;31m             \u001b[0;32mreturn\u001b[0m \u001b[0mC\u001b[0m\u001b[0;34m.\u001b[0m\u001b[0m_element_constructor\u001b[0m\u001b[0;34m(\u001b[0m\u001b[0mx\u001b[0m\u001b[0;34m)\u001b[0m\u001b[0;34m\u001b[0m\u001b[0;34m\u001b[0m\u001b[0m\n\u001b[0m\u001b[1;32m    157\u001b[0m         \u001b[0;32mexcept\u001b[0m \u001b[0mException\u001b[0m\u001b[0;34m:\u001b[0m\u001b[0;34m\u001b[0m\u001b[0;34m\u001b[0m\u001b[0m\n\u001b[1;32m    158\u001b[0m             \u001b[0;32mif\u001b[0m \u001b[0mprint_warnings\u001b[0m\u001b[0;34m:\u001b[0m\u001b[0;34m\u001b[0m\u001b[0;34m\u001b[0m\u001b[0m\n",
      "\u001b[0;32m~/sage/local/lib/python3.8/site-packages/sage/combinat/partition.py\u001b[0m in \u001b[0;36m_element_constructor_\u001b[0;34m(self, lst)\u001b[0m\n\u001b[1;32m   5908\u001b[0m             \u001b[0;32mreturn\u001b[0m \u001b[0mself\u001b[0m\u001b[0;34m.\u001b[0m\u001b[0melement_class\u001b[0m\u001b[0;34m(\u001b[0m\u001b[0mself\u001b[0m\u001b[0;34m,\u001b[0m \u001b[0mlst\u001b[0m\u001b[0;34m)\u001b[0m\u001b[0;34m\u001b[0m\u001b[0;34m\u001b[0m\u001b[0m\n\u001b[1;32m   5909\u001b[0m \u001b[0;34m\u001b[0m\u001b[0m\n\u001b[0;32m-> 5910\u001b[0;31m         \u001b[0;32mraise\u001b[0m \u001b[0mValueError\u001b[0m\u001b[0;34m(\u001b[0m\u001b[0;34m'%s is not an element of %s'\u001b[0m \u001b[0;34m%\u001b[0m \u001b[0;34m(\u001b[0m\u001b[0mlst\u001b[0m\u001b[0;34m,\u001b[0m \u001b[0mself\u001b[0m\u001b[0;34m)\u001b[0m\u001b[0;34m)\u001b[0m\u001b[0;34m\u001b[0m\u001b[0;34m\u001b[0m\u001b[0m\n\u001b[0m\u001b[1;32m   5911\u001b[0m \u001b[0;34m\u001b[0m\u001b[0m\n\u001b[1;32m   5912\u001b[0m     \u001b[0;32mdef\u001b[0m \u001b[0m__contains__\u001b[0m\u001b[0;34m(\u001b[0m\u001b[0mself\u001b[0m\u001b[0;34m,\u001b[0m \u001b[0mx\u001b[0m\u001b[0;34m)\u001b[0m\u001b[0;34m:\u001b[0m\u001b[0;34m\u001b[0m\u001b[0;34m\u001b[0m\u001b[0m\n",
      "\u001b[0;31mValueError\u001b[0m: [1, 2] is not an element of Partitions"
     ]
    }
   ],
   "source": [
    "m[1,2] # does not work becase [1,2] is not a partition"
   ]
  },
  {
   "cell_type": "code",
   "execution_count": 5,
   "metadata": {},
   "outputs": [
    {
     "data": {
      "text/plain": [
       "x0^2*x1*x2 + x0*x1^2*x2 + x0*x1*x2^2"
      ]
     },
     "execution_count": 5,
     "metadata": {},
     "output_type": "execute_result"
    }
   ],
   "source": [
    "m[2,1,1].expand(3) # is a symmetric polynomial"
   ]
  },
  {
   "cell_type": "code",
   "execution_count": 6,
   "metadata": {},
   "outputs": [
    {
     "data": {
      "text/plain": [
       "Multivariate Polynomial Ring in x0, x1, x2 over Rational Field"
      ]
     },
     "execution_count": 6,
     "metadata": {},
     "output_type": "execute_result"
    }
   ],
   "source": [
    "MultiRing = m[2,1,1].expand(3).parent();\n",
    "MultiRing"
   ]
  },
  {
   "cell_type": "markdown",
   "metadata": {},
   "source": [
    "In short, Symmetric functions bases can be seen as a vector spaces over the partitions.\n",
    "\n",
    "But what if we want to see non symmetric polynomials as a vector space over compositions (ie. integer vectors) ?\n",
    "\n",
    "Basically, we want to write\n",
    "\n",
    "$m[2,1,1] = x[2,1,1] + x[1,2,1] + x[1,1,2]$"
   ]
  },
  {
   "cell_type": "markdown",
   "metadata": {},
   "source": [
    "## The multivariate polynomials bases package\n",
    "\n",
    "This is the goal of the Multipolynomial bases package. This is an [external Sage package](https://pypi.org/project/multipolynomial-bases/), which can be installed by typing\n",
    "\n",
    "```sage -pip install multipolynomial_bases```\n",
    "\n",
    "Then you can import all functionalities with"
   ]
  },
  {
   "cell_type": "code",
   "execution_count": 7,
   "metadata": {},
   "outputs": [],
   "source": [
    "from multipolynomial_bases import *"
   ]
  },
  {
   "cell_type": "markdown",
   "metadata": {},
   "source": [
    "I create the multipolynomial algebra over a certain alphabet $x$ this way"
   ]
  },
  {
   "cell_type": "code",
   "execution_count": 8,
   "metadata": {},
   "outputs": [
    {
     "data": {
      "text/plain": [
       "The Multivariate polynomial algebra on x over Rational Field"
      ]
     },
     "execution_count": 8,
     "metadata": {},
     "output_type": "execute_result"
    }
   ],
   "source": [
    "A.<x> = MultivariatePolynomialAlgebra(QQ); A"
   ]
  },
  {
   "cell_type": "markdown",
   "metadata": {},
   "source": [
    "Then $x$ is the equivalent of the monomial basis for non symmetric polynomials."
   ]
  },
  {
   "cell_type": "code",
   "execution_count": 9,
   "metadata": {},
   "outputs": [
    {
     "data": {
      "text/plain": [
       "x[1, 1, 2] + x[1, 2, 1] + x[2, 1, 1]"
      ]
     },
     "execution_count": 9,
     "metadata": {},
     "output_type": "execute_result"
    }
   ],
   "source": [
    "pol = x[2,1,1] + x[1,2,1] + x[1,1,2]; pol"
   ]
  },
  {
   "cell_type": "code",
   "execution_count": 10,
   "metadata": {},
   "outputs": [
    {
     "data": {
      "text/plain": [
       "x0^2*x1*x2 + x0*x1^2*x2 + x0*x1*x2^2"
      ]
     },
     "execution_count": 10,
     "metadata": {},
     "output_type": "execute_result"
    }
   ],
   "source": [
    "alphabet = var('x0,x1,x2')\n",
    "pol.to_expr(alphabet)"
   ]
  },
  {
   "cell_type": "code",
   "execution_count": 11,
   "metadata": {},
   "outputs": [
    {
     "data": {
      "text/plain": [
       "True"
      ]
     },
     "execution_count": 11,
     "metadata": {},
     "output_type": "execute_result"
    }
   ],
   "source": [
    "MultiRing(pol.to_expr(alphabet)) == m[2,1,1].expand(3)"
   ]
  },
  {
   "cell_type": "markdown",
   "metadata": {},
   "source": [
    "## Operators on polynomials\n",
    "\n",
    "This representation of polynomials is useful for: **defining operators that act on the exponents**.\n",
    "\n",
    "We define the action of the $s_i$ operator on integer vectors this way\n",
    "\n",
    "$v.s_i = [v_1, \\dots, v_{i+1}, v_i, \\dots, v_n]$\n",
    "\n",
    "$s_1, s_2, \\dots, s_n$ are the generators of the Symmetric group. This defines an action on the polynomial"
   ]
  },
  {
   "cell_type": "code",
   "execution_count": 12,
   "metadata": {},
   "outputs": [
    {
     "data": {
      "text/plain": [
       "x[2, 1, 1]"
      ]
     },
     "execution_count": 12,
     "metadata": {},
     "output_type": "execute_result"
    }
   ],
   "source": [
    "pol = x[2,1,1]; pol"
   ]
  },
  {
   "cell_type": "code",
   "execution_count": 13,
   "metadata": {},
   "outputs": [
    {
     "data": {
      "text/plain": [
       "x[1, 2, 1]"
      ]
     },
     "execution_count": 13,
     "metadata": {},
     "output_type": "execute_result"
    }
   ],
   "source": [
    "pol.si(1) # exchanges x1 and x2"
   ]
  },
  {
   "cell_type": "code",
   "execution_count": 14,
   "metadata": {},
   "outputs": [
    {
     "data": {
      "text/plain": [
       "x[2, 1, 1]"
      ]
     },
     "execution_count": 14,
     "metadata": {},
     "output_type": "execute_result"
    }
   ],
   "source": [
    "pol.si(2) # exchanges x2 and x3"
   ]
  },
  {
   "cell_type": "code",
   "execution_count": 15,
   "metadata": {},
   "outputs": [
    {
     "data": {
      "text/plain": [
       "x[2, 1, 0, 1]"
      ]
     },
     "execution_count": 15,
     "metadata": {},
     "output_type": "execute_result"
    }
   ],
   "source": [
    "pol.si(3) # exchanges x3 and x4"
   ]
  },
  {
   "cell_type": "markdown",
   "metadata": {},
   "source": [
    "Using the $s_i$ operators, we get the divided differences operators\n",
    "\n",
    "$$f \\partial_i = \\frac{f - f^{s_i}}{x_i - x_{i+1}}$$"
   ]
  },
  {
   "cell_type": "code",
   "execution_count": 16,
   "metadata": {},
   "outputs": [
    {
     "data": {
      "text/plain": [
       "x[1, 1, 1]"
      ]
     },
     "execution_count": 16,
     "metadata": {},
     "output_type": "execute_result"
    }
   ],
   "source": [
    "x[2,1,1].divided_difference(1)"
   ]
  },
  {
   "cell_type": "markdown",
   "metadata": {},
   "source": [
    "Indeed,\n",
    "\n",
    "$$\\frac{x_0^2 x_1 x_2 - x_0 x_1^2 x_2}{x_1 - x_0} = x_0 x_1 x_2 \\frac{x_0 - x_1}{x_0 - x_1} = x_0 x_1 x_2$$"
   ]
  },
  {
   "cell_type": "code",
   "execution_count": 17,
   "metadata": {},
   "outputs": [
    {
     "data": {
      "text/plain": [
       "x[1, 4] + x[2, 3] + x[3, 2] + x[4, 1]"
      ]
     },
     "execution_count": 17,
     "metadata": {},
     "output_type": "execute_result"
    }
   ],
   "source": [
    "x[5,1].divided_difference(1)"
   ]
  },
  {
   "cell_type": "markdown",
   "metadata": {},
   "source": [
    "If $v_i > v_{i+1}$\n",
    "\n",
    "$$x^v\\partial_i = \\sum_{k=v_{i+1}}^{v_{i}-1} x^{[\\dots, k, v_i-k,\\dots]}$$\n",
    "\n",
    "We can also define some slightly different operators. The isobaric divided difference $\\pi_i$ is defined by\n",
    "\n",
    "$$f \\pi_i :=\\frac{x_i f - x_{i+1}f^{s_i}}{x_i - x_{i+1}} = (fx_i)\\partial_i $$\n",
    "\n"
   ]
  },
  {
   "cell_type": "code",
   "execution_count": 18,
   "metadata": {},
   "outputs": [
    {
     "data": {
      "text/plain": [
       "x[1, 5] + x[2, 4] + x[3, 3] + x[4, 2] + x[5, 1]"
      ]
     },
     "execution_count": 18,
     "metadata": {},
     "output_type": "execute_result"
    }
   ],
   "source": [
    "x[5,1].isobaric_divided_difference(1)"
   ]
  },
  {
   "cell_type": "markdown",
   "metadata": {},
   "source": [
    "The $\\partial_i$ and $\\pi_i$ operators symmetrise the polynominal in $x_i$ and $x_{i+1}$."
   ]
  },
  {
   "cell_type": "code",
   "execution_count": 19,
   "metadata": {},
   "outputs": [
    {
     "data": {
      "text/plain": [
       "x[1, 4, 2]"
      ]
     },
     "execution_count": 19,
     "metadata": {},
     "output_type": "execute_result"
    }
   ],
   "source": [
    "pol = x[1,4,2]; pol"
   ]
  },
  {
   "cell_type": "code",
   "execution_count": 20,
   "metadata": {},
   "outputs": [
    {
     "data": {
      "text/plain": [
       "-x[1, 3, 2] - x[2, 2, 2] - x[3, 1, 2]"
      ]
     },
     "execution_count": 20,
     "metadata": {},
     "output_type": "execute_result"
    }
   ],
   "source": [
    "pold1 = pol.divided_difference(1); pold1"
   ]
  },
  {
   "cell_type": "code",
   "execution_count": 21,
   "metadata": {},
   "outputs": [
    {
     "data": {
      "text/plain": [
       "True"
      ]
     },
     "execution_count": 21,
     "metadata": {},
     "output_type": "execute_result"
    }
   ],
   "source": [
    "pold1.si(1) == pold1"
   ]
  },
  {
   "cell_type": "code",
   "execution_count": 22,
   "metadata": {},
   "outputs": [
    {
     "data": {
      "text/plain": [
       "-x[1, 2, 2] + x[3, 1, 1]"
      ]
     },
     "execution_count": 22,
     "metadata": {},
     "output_type": "execute_result"
    }
   ],
   "source": [
    "pold12 = pold1.divided_difference(2); pold12"
   ]
  },
  {
   "cell_type": "code",
   "execution_count": 23,
   "metadata": {},
   "outputs": [
    {
     "data": {
      "text/plain": [
       "True"
      ]
     },
     "execution_count": 23,
     "metadata": {},
     "output_type": "execute_result"
    }
   ],
   "source": [
    "pold12.si(2) == pold12"
   ]
  },
  {
   "cell_type": "code",
   "execution_count": 24,
   "metadata": {},
   "outputs": [
    {
     "data": {
      "text/plain": [
       "x[1, 1, 2] + x[1, 2, 1] + x[2, 1, 1]"
      ]
     },
     "execution_count": 24,
     "metadata": {},
     "output_type": "execute_result"
    }
   ],
   "source": [
    "pold121 = pold12.divided_difference(1); pold121"
   ]
  },
  {
   "cell_type": "code",
   "execution_count": 25,
   "metadata": {},
   "outputs": [
    {
     "data": {
      "text/plain": [
       "True"
      ]
     },
     "execution_count": 25,
     "metadata": {},
     "output_type": "execute_result"
    }
   ],
   "source": [
    "pold121.si(1) == pold121"
   ]
  },
  {
   "cell_type": "code",
   "execution_count": 26,
   "metadata": {},
   "outputs": [
    {
     "data": {
      "text/plain": [
       "True"
      ]
     },
     "execution_count": 26,
     "metadata": {},
     "output_type": "execute_result"
    }
   ],
   "source": [
    "pold121.si(2) == pold121"
   ]
  },
  {
   "cell_type": "markdown",
   "metadata": {},
   "source": [
    "We have applied the *maximal divided difference*.\n",
    "\n",
    "$321 = s_1 s_2 s_1$ in the symmetric group\n",
    "\n",
    "$\\partial_{(321)} = \\partial_1 \\partial_2 \\partial_1$\n",
    "\n",
    "We obtain a symmetric function, and more precisely a *Schur function*."
   ]
  },
  {
   "cell_type": "code",
   "execution_count": 27,
   "metadata": {},
   "outputs": [
    {
     "data": {
      "text/plain": [
       "s[2, 1, 1]"
      ]
     },
     "execution_count": 27,
     "metadata": {},
     "output_type": "execute_result"
    }
   ],
   "source": [
    "schur = Sym.schur()\n",
    "s = schur[2,1,1]\n",
    "s"
   ]
  },
  {
   "cell_type": "code",
   "execution_count": 28,
   "metadata": {},
   "outputs": [
    {
     "data": {
      "text/plain": [
       "x0^2*x1*x2 + x0*x1^2*x2 + x0*x1*x2^2"
      ]
     },
     "execution_count": 28,
     "metadata": {},
     "output_type": "execute_result"
    }
   ],
   "source": [
    "s.expand(3)"
   ]
  },
  {
   "cell_type": "code",
   "execution_count": 29,
   "metadata": {},
   "outputs": [
    {
     "data": {
      "text/plain": [
       "x0^2*x1*x2 + x0*x1^2*x2 + x0*x1*x2^2"
      ]
     },
     "execution_count": 29,
     "metadata": {},
     "output_type": "execute_result"
    }
   ],
   "source": [
    "pold121.to_expr(alphabet)"
   ]
  },
  {
   "cell_type": "markdown",
   "metadata": {},
   "source": [
    "## Schubert polynomials\n",
    "\n",
    "Schur functions are fundamental in the symmetric functions theory. They are a basis of the ring of symmetric functions. \n",
    "\n",
    "Now, how can we use divided differences to create a generalization of this basis for *non symmetric* polynomials.\n",
    "\n",
    "Let us define dominant polynomials by: $x^\\lambda$ with $\\lambda_1 \\geq \\lambda_2 \\geq \\dots \\geq \\lambda_n$ and let us apply divided differences on these polynomials."
   ]
  },
  {
   "cell_type": "code",
   "execution_count": 30,
   "metadata": {},
   "outputs": [],
   "source": [
    "dominant = x[4,2,1]\n",
    "Y231 = dominant.divided_difference(1)\n",
    "Y212 = Y231.divided_difference(2)\n",
    "Y112 = Y212.divided_difference(1)\n",
    "Y411 = dominant.divided_difference(2)\n",
    "Y131 = Y411.divided_difference(1)\n",
    "pols = [dominant, Y231, Y411, Y212, Y131, Y112]"
   ]
  },
  {
   "cell_type": "code",
   "execution_count": 31,
   "metadata": {},
   "outputs": [
    {
     "data": {
      "image/png": "[encoded data removed]",
      "text/plain": [
       "Graphics object consisting of 19 graphics primitives"
      ]
     },
     "execution_count": 31,
     "metadata": {},
     "output_type": "execute_result"
    }
   ],
   "source": [
    "G = Graph()\n",
    "for pol in pols:\n",
    "    G.add_vertex(pol)\n",
    "G.add_edge(pols[0], pols[1], 'd1')\n",
    "G.add_edge(pols[1], pols[3], 'd2')\n",
    "G.add_edge(pols[3], pols[5], 'd1')\n",
    "G.add_edge(pols[0], pols[2], 'd2')\n",
    "G.add_edge(pols[2], pols[4], 'd1')\n",
    "G.add_edge(pols[4], pols[5], 'd2')\n",
    "pos = {}\n",
    "pos[pols[0]] = (1,3)\n",
    "pos[pols[1]] = (0,2)\n",
    "pos[pols[2]] = (2,2)\n",
    "pos[pols[3]] = (0,1)\n",
    "pos[pols[4]] = (2,1)\n",
    "pos[pols[5]] = (1,0)\n",
    "G.plot(pos = pos, edge_labels=True, vertex_size = 0)"
   ]
  },
  {
   "cell_type": "markdown",
   "metadata": {},
   "source": [
    "Each polynomial of the graph is given by the dominant polynomial and a product of divided differences. This information can be coded in a single vector, and we obtain the **Schubert polynomials**"
   ]
  },
  {
   "cell_type": "code",
   "execution_count": 32,
   "metadata": {},
   "outputs": [
    {
     "data": {
      "image/png": "[encoded data removed]",
      "text/plain": [
       "Graphics object consisting of 19 graphics primitives"
      ]
     },
     "execution_count": 32,
     "metadata": {},
     "output_type": "execute_result"
    }
   ],
   "source": [
    "Y = A.schubert_basis()\n",
    "pols = [Y(pol) for pol in pols]\n",
    "G = Graph()\n",
    "for pol in pols:\n",
    "    G.add_vertex(pol)\n",
    "G.add_edge(pols[0], pols[1], 'd1')\n",
    "G.add_edge(pols[1], pols[3], 'd2')\n",
    "G.add_edge(pols[3], pols[5], 'd1')\n",
    "G.add_edge(pols[0], pols[2], 'd2')\n",
    "G.add_edge(pols[2], pols[4], 'd1')\n",
    "G.add_edge(pols[4], pols[5], 'd2')\n",
    "pos = {}\n",
    "pos[pols[0]] = (1,3)\n",
    "pos[pols[1]] = (0,2)\n",
    "pos[pols[2]] = (2,2)\n",
    "pos[pols[3]] = (0,1)\n",
    "pos[pols[4]] = (2,1)\n",
    "pos[pols[5]] = (1,0)\n",
    "G.plot(pos = pos, edge_labels=True, vertex_size = 0)"
   ]
  },
  {
   "cell_type": "markdown",
   "metadata": {},
   "source": [
    "The definition goes like this:\n",
    "\n",
    "If $\\lambda_1 \\geq \\lambda_2 \\geq \\dots \\geq \\lambda_n$, then\n",
    "\n",
    "$$Y_\\lambda = x^\\lambda$$\n",
    "\n",
    "Otherwise, if $v_i \\gt v_{i+1}$, we get\n",
    "\n",
    "$$Y_{\\dots, v_{i+1},v_{i}-1, \\dots} = Y_v \\partial_i$$\n",
    "\n",
    "This is a consistent definition because $\\partial_i$ operators satisfy braid relations\n",
    "\n",
    "$\\partial_i \\partial_{i+1} \\partial_i = \\partial_{i+1} \\partial_i \\partial_{i+1}$\n",
    "\n",
    "In particular\n",
    "\n",
    "$$f \\partial_1 \\partial_2 \\partial_1 = \\frac{f - f^{s_1} - f^{s_2} + f^{s_1 s_2} + f^{s_2 s_1} - f^{s_1 s_2 s_1}}{(x_1 - x_2) (x_1 - x_3) (x_2 - x_3)}$$\n",
    "\n",
    "The family $(Y_v)$ forms a basis of multivariate polynomial, they are called the **Schubert polynomials** (Lascoux and Schutzenberger, 1983)\n"
   ]
  },
  {
   "cell_type": "code",
   "execution_count": 33,
   "metadata": {},
   "outputs": [
    {
     "data": {
      "text/plain": [
       "The Multivariate polynomial algebra on x over Rational Field on the Schubert basis of type A"
      ]
     },
     "execution_count": 33,
     "metadata": {},
     "output_type": "execute_result"
    }
   ],
   "source": [
    "Y"
   ]
  },
  {
   "cell_type": "markdown",
   "metadata": {},
   "source": [
    "As this is a basis, one can convert the monomial from and to the Schubert basis."
   ]
  },
  {
   "cell_type": "code",
   "execution_count": 34,
   "metadata": {},
   "outputs": [
    {
     "data": {
      "text/plain": [
       "Y[1, 1, 2]"
      ]
     },
     "execution_count": 34,
     "metadata": {},
     "output_type": "execute_result"
    }
   ],
   "source": [
    "schub = Y[1,1,2]; schub"
   ]
  },
  {
   "cell_type": "code",
   "execution_count": 35,
   "metadata": {},
   "outputs": [
    {
     "data": {
      "text/plain": [
       "x[1, 1, 2] + x[1, 2, 1] + x[2, 1, 1]"
      ]
     },
     "execution_count": 35,
     "metadata": {},
     "output_type": "execute_result"
    }
   ],
   "source": [
    "x(schub)"
   ]
  },
  {
   "cell_type": "code",
   "execution_count": 36,
   "metadata": {},
   "outputs": [
    {
     "data": {
      "text/plain": [
       "x[2, 1, 2] + x[2, 2, 1] + x[3, 1, 1]"
      ]
     },
     "execution_count": 36,
     "metadata": {},
     "output_type": "execute_result"
    }
   ],
   "source": [
    "x(Y[2,1,2])"
   ]
  },
  {
   "cell_type": "code",
   "execution_count": 37,
   "metadata": {},
   "outputs": [
    {
     "data": {
      "text/plain": [
       "x[0, 0, 0] + 3*x[0, 1, 0] + 2*x[1, 0, 0] + x[1, 2, 3]"
      ]
     },
     "execution_count": 37,
     "metadata": {},
     "output_type": "execute_result"
    }
   ],
   "source": [
    "pol = A.an_element(); pol"
   ]
  },
  {
   "cell_type": "code",
   "execution_count": 38,
   "metadata": {},
   "outputs": [
    {
     "data": {
      "text/plain": [
       "Y[0, 0, 0] + 3*Y[0, 1, 0] - Y[1, 0, 0] + Y[1, 2, 3] - Y[1, 3, 2] - Y[2, 1, 3] + Y[2, 3, 1] + Y[3, 1, 2] - Y[3, 2, 1] + Y[4, 1, 1]"
      ]
     },
     "execution_count": 38,
     "metadata": {},
     "output_type": "execute_result"
    }
   ],
   "source": [
    "Y(pol)"
   ]
  },
  {
   "cell_type": "markdown",
   "metadata": {},
   "source": [
    "In particular, we can use the program to **multiply** Schubert polynomials"
   ]
  },
  {
   "cell_type": "code",
   "execution_count": 39,
   "metadata": {},
   "outputs": [
    {
     "data": {
      "text/plain": [
       "Y[4, 2, 4] + Y[4, 3, 3] + Y[5, 2, 3] + Y[6, 2, 2]"
      ]
     },
     "execution_count": 39,
     "metadata": {},
     "output_type": "execute_result"
    }
   ],
   "source": [
    "Y[2,1,2] * Y[2,1,2]"
   ]
  },
  {
   "cell_type": "markdown",
   "metadata": {},
   "source": [
    "Schubert polynomials appear in particular in algebraic geometry (representing cohomology classes of Schubert cycles in flag varieties). The question of a combinatorial description of the product is still open. \n",
    "\n",
    "The closest we have is an analogue of the Pieri's formula called the **Monk formula**\n",
    "\n",
    "$$Y_{(s_r)} Y_{(\\sigma)} = \\sum_{i \\leq r < j} Y_{(\\sigma t_{ij})}$$\n",
    "\n",
    "where $t_{ij}$ is a transposition which increases the length of $\\sigma$ by exactly 1. Here, Schubert polynomials are indexed by the permutation applied to the dominant element $x^{[n-1, n-2, \\dots, 1, 0]}$. $Y_{(\\sigma)} = Y_v$ where $v$ is the *Lehmer code* of the permutation $\\sigma$. In our settings, this corresponds to \n",
    "\n",
    "$$Y_{[0,0,\\dots, 1]} Y_v$$"
   ]
  },
  {
   "cell_type": "code",
   "execution_count": 40,
   "metadata": {},
   "outputs": [
    {
     "data": {
      "text/plain": [
       "Y[3, 0, 1, 2, 1, 0] + Y[3, 0, 2, 2, 0, 0] + Y[3, 0, 3, 0, 1, 0] + Y[4, 0, 0, 2, 1, 0] + Y[5, 0, 0, 1, 1, 0]"
      ]
     },
     "execution_count": 40,
     "metadata": {},
     "output_type": "execute_result"
    }
   ],
   "source": [
    "Y[0,0,1] * Y[3,0,0,2,1,0]"
   ]
  },
  {
   "cell_type": "code",
   "execution_count": 41,
   "metadata": {},
   "outputs": [
    {
     "data": {
      "text/plain": [
       "Y[3, 0, 1, 2, 1, 0] + Y[3, 0, 2, 2, 0, 0] + Y[3, 0, 3, 0, 1, 0] + Y[4, 0, 0, 2, 1, 0] + Y[5, 0, 0, 1, 1, 0]"
      ]
     },
     "execution_count": 41,
     "metadata": {},
     "output_type": "execute_result"
    }
   ],
   "source": [
    "s3 = Permutation([1,2,4,3,5,6])\n",
    "sigma = Permutation([4,1,2,6,5,3])\n",
    "Y(s3.to_lehmer_code()) * Y(sigma.to_lehmer_code())"
   ]
  },
  {
   "cell_type": "code",
   "execution_count": 42,
   "metadata": {},
   "outputs": [],
   "source": [
    "def monk(r, sigma):\n",
    "    s = 0\n",
    "    n = len(sigma) + 1\n",
    "    sigma = sigma[:] + [n]\n",
    "    for i in range(r):\n",
    "        for j in range(r,n):\n",
    "            if sigma[i] < sigma[j] and all(sigma[k] < sigma[i] or sigma[k] > sigma[j] for k in range(i+1,j)):\n",
    "                p2 = Permutation(sigma[:i] + [sigma[j]] + sigma[i+1:j] + [sigma[i]] + sigma[j+1:])\n",
    "                s += Y(p2.to_lehmer_code())\n",
    "    return s.reduce_nb_variables()"
   ]
  },
  {
   "cell_type": "code",
   "execution_count": 43,
   "metadata": {},
   "outputs": [
    {
     "data": {
      "text/plain": [
       "Y[3, 0, 1, 2, 1] + Y[3, 0, 2, 2, 0] + Y[3, 0, 3, 0, 1] + Y[4, 0, 0, 2, 1] + Y[5, 0, 0, 1, 1]"
      ]
     },
     "execution_count": 43,
     "metadata": {},
     "output_type": "execute_result"
    }
   ],
   "source": [
    "monk(3, Permutation([4,1,2,6,5,3]))"
   ]
  },
  {
   "cell_type": "code",
   "execution_count": 44,
   "metadata": {},
   "outputs": [
    {
     "data": {
      "text/plain": [
       "True"
      ]
     },
     "execution_count": 44,
     "metadata": {},
     "output_type": "execute_result"
    }
   ],
   "source": [
    "monk(3, Permutation([4,1,2,6,5,3])) == Y[0,0,1] * Y[3,0,0,2,1,0]"
   ]
  },
  {
   "cell_type": "code",
   "execution_count": 45,
   "metadata": {},
   "outputs": [
    {
     "data": {
      "text/plain": [
       "True"
      ]
     },
     "execution_count": 45,
     "metadata": {},
     "output_type": "execute_result"
    }
   ],
   "source": [
    "n = 6\n",
    "all(monk(r, sigma) == Y([0] * (r-1) + [1]) * Y(sigma.to_lehmer_code()) \n",
    "    for sigma in Permutations(n) \n",
    "    for r in range(1,n))"
   ]
  },
  {
   "cell_type": "markdown",
   "metadata": {},
   "source": [
    "## Other bases\n",
    "\n",
    "We have seen that there exists some other operators: $\\pi_i$. They define other bases.\n",
    "\n",
    "**Key polynomials** (Demazure characters):\n",
    "\n",
    "If $\\lambda_1 \\geq \\lambda_2 \\geq \\dots \\geq \\lambda_n$, then\n",
    "\n",
    "$$K_\\lambda = x^\\lambda$$\n",
    "\n",
    "Otherwise, if $v_i \\gt v_{i+1}$, we get\n",
    "\n",
    "$$K_{\\dots, v_{i+1},v_{i}, \\dots} = K_v \\pi_i$$"
   ]
  },
  {
   "cell_type": "code",
   "execution_count": 46,
   "metadata": {},
   "outputs": [
    {
     "data": {
      "image/png": "[encoded data removed]",
      "text/plain": [
       "Graphics object consisting of 19 graphics primitives"
      ]
     },
     "execution_count": 46,
     "metadata": {},
     "output_type": "execute_result"
    }
   ],
   "source": [
    "dominant = x[3,2,1]\n",
    "K231 = dominant.isobaric_divided_difference(1)\n",
    "K213 = K231.isobaric_divided_difference(2)\n",
    "K123 = K213.isobaric_divided_difference(1)\n",
    "K312 = dominant.isobaric_divided_difference(2)\n",
    "K132 = K312.isobaric_divided_difference(1)\n",
    "pols = [dominant, K231, K312, K213, K132, K123]\n",
    "K = A.demazure_basis()\n",
    "pols = [K(pol) for pol in pols]\n",
    "\n",
    "G = Graph()\n",
    "for pol in pols:\n",
    "    G.add_vertex(pol)\n",
    "G.add_edge(pols[0], pols[1], 'pi1')\n",
    "G.add_edge(pols[1], pols[3], 'pi2')\n",
    "G.add_edge(pols[3], pols[5], 'pi1')\n",
    "G.add_edge(pols[0], pols[2], 'pi2')\n",
    "G.add_edge(pols[2], pols[4], 'pi1')\n",
    "G.add_edge(pols[4], pols[5], 'pi2')\n",
    "pos = {}\n",
    "pos[pols[0]] = (1,3)\n",
    "pos[pols[1]] = (0,2)\n",
    "pos[pols[2]] = (2,2)\n",
    "pos[pols[3]] = (0,1)\n",
    "pos[pols[4]] = (2,1)\n",
    "pos[pols[5]] = (1,0)\n",
    "G.plot(pos = pos, edge_labels=True, vertex_size = 0)\n"
   ]
  },
  {
   "cell_type": "code",
   "execution_count": 47,
   "metadata": {},
   "outputs": [
    {
     "data": {
      "text/plain": [
       "x0^3*x1^2*x2 + x0^2*x1^3*x2 + x0^3*x1*x2^2 + 2*x0^2*x1^2*x2^2 + x0*x1^3*x2^2 + x0^2*x1*x2^3 + x0*x1^2*x2^3"
      ]
     },
     "execution_count": 47,
     "metadata": {},
     "output_type": "execute_result"
    }
   ],
   "source": [
    "schur[3,2,1].expand(3)"
   ]
  },
  {
   "cell_type": "code",
   "execution_count": 48,
   "metadata": {},
   "outputs": [
    {
     "data": {
      "text/plain": [
       "x0^3*x1^2*x2 + x0^2*x1^3*x2 + x0^3*x1*x2^2 + 2*x0^2*x1^2*x2^2 + x0*x1^3*x2^2 + x0^2*x1*x2^3 + x0*x1^2*x2^3"
      ]
     },
     "execution_count": 48,
     "metadata": {},
     "output_type": "execute_result"
    }
   ],
   "source": [
    "K123.to_expr(alphabet)"
   ]
  },
  {
   "cell_type": "markdown",
   "metadata": {},
   "source": [
    "**Grothendieck polynomials**\n",
    "\n",
    "If $\\lambda_1 \\geq \\lambda_2 \\geq \\dots \\geq \\lambda_n$, then\n",
    "\n",
    "$$G_\\lambda = x^\\lambda$$\n",
    "\n",
    "Otherwise, if $v_i \\gt v_{i+1}$, we get\n",
    "\n",
    "$$G_{\\dots, v_{i+1},v_{i} - 1, \\dots} = \\left(G_v \\frac{1 - x_{i+1}}{x_i} \\right)  \\pi_i$$\n",
    "\n",
    "The operator $\\frac{1 - x_{i+1}}{x_i} \\pi_i$ is not defined by default, but we can create it"
   ]
  },
  {
   "cell_type": "code",
   "execution_count": 49,
   "metadata": {},
   "outputs": [
    {
     "data": {
      "image/png": "[encoded data removed]",
      "text/plain": [
       "Graphics object consisting of 19 graphics primitives"
      ]
     },
     "execution_count": 49,
     "metadata": {},
     "output_type": "execute_result"
    }
   ],
   "source": [
    "Gr = A.grothendieck_positive_basis()\n",
    "dominant = Gr[3,2,1]\n",
    "G221 = Gr[2,2,1]\n",
    "G211 = Gr[2,1,1]\n",
    "G111 = Gr[1,1,1]\n",
    "G311 = Gr[3,1,1]\n",
    "G121 = Gr[1,2,1]\n",
    "pols = [dominant, G221, G311, G211, G121, G111]\n",
    "G = Graph()\n",
    "for pol in pols:\n",
    "    G.add_vertex(pol)\n",
    "G.add_edge(pols[0], pols[1], 'pi1')\n",
    "G.add_edge(pols[1], pols[3], 'pi2')\n",
    "G.add_edge(pols[3], pols[5], 'pi1')\n",
    "G.add_edge(pols[0], pols[2], 'pi2')\n",
    "G.add_edge(pols[2], pols[4], 'pi1')\n",
    "G.add_edge(pols[4], pols[5], 'pi2')\n",
    "pos = {}\n",
    "pos[pols[0]] = (1,3)\n",
    "pos[pols[1]] = (0,2)\n",
    "pos[pols[2]] = (2,2)\n",
    "pos[pols[3]] = (0,1)\n",
    "pos[pols[4]] = (2,1)\n",
    "pos[pols[5]] = (1,0)\n",
    "G.plot(pos = pos, edge_labels=True, vertex_size = 0)"
   ]
  },
  {
   "cell_type": "code",
   "execution_count": 50,
   "metadata": {},
   "outputs": [
    {
     "data": {
      "text/plain": [
       "x0*x1*x2"
      ]
     },
     "execution_count": 50,
     "metadata": {},
     "output_type": "execute_result"
    }
   ],
   "source": [
    "schur[1,1,1].expand(3)"
   ]
  },
  {
   "cell_type": "code",
   "execution_count": 51,
   "metadata": {},
   "outputs": [
    {
     "data": {
      "text/plain": [
       "x0*x1*x2"
      ]
     },
     "execution_count": 51,
     "metadata": {},
     "output_type": "execute_result"
    }
   ],
   "source": [
    "G111.to_expr(alphabet)"
   ]
  },
  {
   "cell_type": "markdown",
   "metadata": {},
   "source": [
    "We can multiply and convert back and from all these bases."
   ]
  },
  {
   "cell_type": "code",
   "execution_count": 52,
   "metadata": {
    "scrolled": true
   },
   "outputs": [
    {
     "data": {
      "text/plain": [
       "x[0, 0, 0] + 3*x[0, 1, 0] + 2*x[1, 0, 0] + x[1, 2, 3]"
      ]
     },
     "execution_count": 52,
     "metadata": {},
     "output_type": "execute_result"
    }
   ],
   "source": [
    "pol = A.an_element(); pol"
   ]
  },
  {
   "cell_type": "code",
   "execution_count": 53,
   "metadata": {},
   "outputs": [
    {
     "data": {
      "text/plain": [
       "G[0, 0, 0] + 3*G[0, 1, 0] - G[1, 0, 0] + 3*G[1, 1, 0] + G[1, 2, 3] - G[1, 3, 2] + G[1, 3, 3] - G[2, 1, 3] + G[2, 2, 3] + G[2, 3, 1] - 2*G[2, 3, 2] + G[2, 3, 3] + G[3, 1, 2] - G[3, 1, 3] - G[3, 2, 1] + G[3, 2, 2] - G[3, 3, 2] + G[3, 3, 3] + G[4, 1, 1] - G[4, 1, 3]"
      ]
     },
     "execution_count": 53,
     "metadata": {},
     "output_type": "execute_result"
    }
   ],
   "source": [
    "Gr(pol)"
   ]
  },
  {
   "cell_type": "code",
   "execution_count": 54,
   "metadata": {},
   "outputs": [
    {
     "data": {
      "text/plain": [
       "K[2, 5, 6] + K[3, 4, 6] + K[3, 5, 5] + K[4, 4, 5]"
      ]
     },
     "execution_count": 54,
     "metadata": {},
     "output_type": "execute_result"
    }
   ],
   "source": [
    "K[1,2,3] * K[1,3,3]"
   ]
  },
  {
   "cell_type": "code",
   "execution_count": 55,
   "metadata": {},
   "outputs": [
    {
     "data": {
      "text/plain": [
       "K[1, 2, 3] - K[1, 3, 2] - K[2, 1, 3] + K[2, 3, 1] + K[3, 1, 2] - K[3, 2, 1]"
      ]
     },
     "execution_count": 55,
     "metadata": {},
     "output_type": "execute_result"
    }
   ],
   "source": [
    "K(x[1,2,3])"
   ]
  },
  {
   "cell_type": "code",
   "execution_count": 56,
   "metadata": {},
   "outputs": [
    {
     "data": {
      "text/plain": [
       "Y[2, 1, 2, 4] - Y[3, 1, 1, 4] + Y[6, 1, 1, 1]"
      ]
     },
     "execution_count": 56,
     "metadata": {},
     "output_type": "execute_result"
    }
   ],
   "source": [
    "Y(K[2,1,2,4])"
   ]
  },
  {
   "cell_type": "code",
   "execution_count": 57,
   "metadata": {},
   "outputs": [
    {
     "data": {
      "text/plain": [
       "G[2, 5, 6] + G[3, 4, 6] + G[3, 5, 5] - 2*G[3, 5, 6] + G[4, 4, 5] - G[4, 4, 6] - G[4, 5, 5] + G[4, 5, 6]"
      ]
     },
     "execution_count": 57,
     "metadata": {},
     "output_type": "execute_result"
    }
   ],
   "source": [
    "Gr[1,2,3] * Gr[1,3,3]"
   ]
  },
  {
   "cell_type": "code",
   "execution_count": 58,
   "metadata": {},
   "outputs": [
    {
     "data": {
      "text/plain": [
       "G[1, 2, 3] - G[1, 3, 2] + G[1, 3, 3] - G[2, 1, 3] + G[2, 2, 3] + G[2, 3, 1] - 2*G[2, 3, 2] + G[2, 3, 3] + G[3, 1, 2] - G[3, 1, 3] - G[3, 2, 1] + G[3, 2, 2] - G[3, 3, 2] + G[3, 3, 3] + G[4, 1, 1] - G[4, 1, 3]"
      ]
     },
     "execution_count": 58,
     "metadata": {},
     "output_type": "execute_result"
    }
   ],
   "source": [
    "Gr(x[1,2,3])"
   ]
  },
  {
   "cell_type": "markdown",
   "metadata": {},
   "source": [
    "For example,\n",
    "\n",
    "we can check an equivalent of the Monk formula for Grothendieck polynomials, which is found here\n",
    "\n",
    "* C. Lenart and A. Postnikov, Affine Weyl groups in K-theory and representation\n",
    "theory, *Internat. Math. Res. Not.* 2007\n",
    "* V. Pons, Interval structure of the Pieri formula for Grothendieck polynomials. *International Journal of Algebra and Computation*, 23(01):123–146, 2013. "
   ]
  },
  {
   "cell_type": "code",
   "execution_count": 59,
   "metadata": {},
   "outputs": [],
   "source": [
    "def chained_permutations(sigma, chain):\n",
    "    if len(chain) == 0:\n",
    "        return Gr(Permutation(sigma).to_lehmer_code())\n",
    "    i,j = chain.pop()\n",
    "    s = chained_permutations(sigma, chain)\n",
    "    if sigma[i] < sigma[j] and all(sigma[k] < sigma[i] or sigma[k] > sigma[j] for k in range(i+1,j)):\n",
    "        sigma2 = sigma[:i] + [sigma[j]] + sigma[i+1:j] + [sigma[i]] + sigma[j+1:]\n",
    "        s -= chained_permutations(sigma2,chain)\n",
    "    chain.append((i,j))\n",
    "    return s\n",
    "\n",
    "def pieri_groth(r, sigma):\n",
    "    chain = []\n",
    "    n = len(sigma)\n",
    "    for i in range(r):\n",
    "        for j in range(n-1,r-1,-1):\n",
    "            if sigma[i] < sigma[j] and all(sigma[k] < sigma[i] or sigma[k] > sigma[j] for k in range(i+1,j)):\n",
    "                chain.append((i,j))\n",
    "    chain.reverse()\n",
    "    return Gr(sigma.to_lehmer_code()) - chained_permutations(sigma, chain)"
   ]
  },
  {
   "cell_type": "code",
   "execution_count": 60,
   "metadata": {},
   "outputs": [
    {
     "data": {
      "text/plain": [
       "G[0, 1, 3, 1, 1, 0] + G[0, 1, 3, 2, 0, 0] - G[0, 1, 3, 2, 1, 0] + G[0, 2, 3, 0, 1, 0] - G[0, 2, 3, 1, 1, 0] - G[0, 2, 3, 2, 0, 0] + G[0, 2, 3, 2, 1, 0] + G[0, 3, 3, 0, 0, 0] - G[0, 3, 3, 0, 1, 0] - G[0, 3, 3, 1, 0, 0] + G[0, 3, 3, 1, 1, 0] + G[0, 3, 3, 2, 0, 0] - G[0, 3, 3, 2, 1, 0]"
      ]
     },
     "execution_count": 60,
     "metadata": {},
     "output_type": "execute_result"
    }
   ],
   "source": [
    "r = 4\n",
    "sigma = Permutation([1,3,6,2,5,4])\n",
    "pieri_groth(4,sigma)"
   ]
  },
  {
   "cell_type": "code",
   "execution_count": 61,
   "metadata": {},
   "outputs": [
    {
     "data": {
      "text/plain": [
       "G[0, 1, 3, 1, 1, 0] + G[0, 1, 3, 2, 0, 0] - G[0, 1, 3, 2, 1, 0] + G[0, 1, 4, 0, 1, 0] - G[0, 1, 4, 1, 1, 0] - G[0, 1, 4, 2, 0, 0] + G[0, 1, 4, 2, 1, 0] + G[0, 2, 3, 0, 1, 0] - G[0, 2, 3, 1, 1, 0] - G[0, 2, 3, 2, 0, 0] + G[0, 2, 3, 2, 1, 0] - G[0, 2, 4, 0, 1, 0] + G[0, 2, 4, 1, 1, 0] + G[0, 2, 4, 2, 0, 0] - G[0, 2, 4, 2, 1, 0] + G[0, 3, 3, 0, 0, 0] - G[0, 3, 3, 0, 1, 0] - G[0, 3, 3, 1, 0, 0] + G[0, 3, 3, 1, 1, 0] + G[0, 3, 3, 2, 0, 0] - G[0, 3, 3, 2, 1, 0] - G[0, 3, 4, 0, 0, 0] + G[0, 3, 4, 0, 1, 0] + G[0, 3, 4, 1, 0, 0] - G[0, 3, 4, 1, 1, 0] - G[0, 3, 4, 2, 0, 0] + G[0, 3, 4, 2, 1, 0]"
      ]
     },
     "execution_count": 61,
     "metadata": {},
     "output_type": "execute_result"
    }
   ],
   "source": [
    "pol = Gr(sigma.to_lehmer_code()) * Gr[0,0,0,1]; pol\n",
    "pol"
   ]
  },
  {
   "cell_type": "code",
   "execution_count": 62,
   "metadata": {},
   "outputs": [],
   "source": [
    "def reduce(self, key):\n",
    "    \"\"\"\n",
    "    Removes the lehmer code which correspond to permutations in S_m m > n\n",
    "    \"\"\"\n",
    "    n = len(key) - 1\n",
    "    for k in key:\n",
    "        if k > n:\n",
    "            return self._module(0)\n",
    "        n-= 1\n",
    "    return self._module(key)\n",
    "Gr.add_operator(\"reduce\", reduce)"
   ]
  },
  {
   "cell_type": "code",
   "execution_count": 63,
   "metadata": {},
   "outputs": [
    {
     "data": {
      "text/plain": [
       "G[0, 1, 3, 1, 1, 0] + G[0, 1, 3, 2, 0, 0] - G[0, 1, 3, 2, 1, 0] + G[0, 2, 3, 0, 1, 0] - G[0, 2, 3, 1, 1, 0] - G[0, 2, 3, 2, 0, 0] + G[0, 2, 3, 2, 1, 0] + G[0, 3, 3, 0, 0, 0] - G[0, 3, 3, 0, 1, 0] - G[0, 3, 3, 1, 0, 0] + G[0, 3, 3, 1, 1, 0] + G[0, 3, 3, 2, 0, 0] - G[0, 3, 3, 2, 1, 0]"
      ]
     },
     "execution_count": 63,
     "metadata": {},
     "output_type": "execute_result"
    }
   ],
   "source": [
    "pol.apply_morphism(1, method=\"reduce\")"
   ]
  },
  {
   "cell_type": "code",
   "execution_count": 64,
   "metadata": {},
   "outputs": [
    {
     "data": {
      "text/plain": [
       "True"
      ]
     },
     "execution_count": 64,
     "metadata": {},
     "output_type": "execute_result"
    }
   ],
   "source": [
    "pol.apply_morphism(1, method=\"reduce\") == pieri_groth(4,sigma)"
   ]
  },
  {
   "cell_type": "code",
   "execution_count": 65,
   "metadata": {},
   "outputs": [
    {
     "data": {
      "text/plain": [
       "True"
      ]
     },
     "execution_count": 65,
     "metadata": {},
     "output_type": "execute_result"
    }
   ],
   "source": [
    "n = 5\n",
    "all(pieri_groth(r, sigma) == (Gr([0] * (r-1) + [1]) * Gr(sigma.to_lehmer_code())).apply_morphism(1, method = \"reduce\") \n",
    "    for sigma in Permutations(n) \n",
    "    for r in range(1,n))"
   ]
  },
  {
   "cell_type": "markdown",
   "metadata": {},
   "source": [
    "## Other types\n",
    "\n",
    "The divided differences exist also in other types. The program supports types B,C,D. In particular, we have Key polynomials of types $B$ and $D$."
   ]
  },
  {
   "cell_type": "code",
   "execution_count": 66,
   "metadata": {},
   "outputs": [
    {
     "data": {
      "text/plain": [
       "The Multivariate polynomial algebra on x over Rational Field on the Demazure basis of type B"
      ]
     },
     "execution_count": 66,
     "metadata": {},
     "output_type": "execute_result"
    }
   ],
   "source": [
    "Kb = A.demazure_basis(group_type=\"B\"); Kb"
   ]
  },
  {
   "cell_type": "code",
   "execution_count": 67,
   "metadata": {},
   "outputs": [
    {
     "data": {
      "text/plain": [
       "x[1, 1, -2] + x[1, 1, -1] + x[1, 1, 0] + x[1, 1, 1] + x[1, 1, 2] + x[1, 2, -1] + x[1, 2, 0] + x[1, 2, 1] + x[2, 1, -1] + x[2, 1, 0] + x[2, 1, 1]"
      ]
     },
     "execution_count": 67,
     "metadata": {},
     "output_type": "execute_result"
    }
   ],
   "source": [
    "x(Kb[1,1,-2])"
   ]
  },
  {
   "cell_type": "code",
   "execution_count": 68,
   "metadata": {},
   "outputs": [
    {
     "data": {
      "text/plain": [
       "K[1, 5, -1] + K[1, 5, 2] + K[1, 5, 3] + K[1, 5, 4] + K[1, 5, 5] + K[1, 5, 6] + K[1, 5, 7] + K[1, 6, -2] + K[1, 6, 0] + K[1, 6, 1] + K[1, 6, 2] + 2*K[1, 6, 3] + 2*K[1, 6, 4] + K[1, 6, 5] + K[1, 6, 6] + K[1, 7, -1] + K[1, 7, 2] + K[1, 7, 3] + K[1, 7, 4] + K[2, 4, -1] + K[2, 4, 2] + K[2, 4, 3] + K[2, 4, 4] + K[2, 4, 5] + K[2, 4, 6] + K[2, 4, 7] + 2*K[2, 5, -2] + K[2, 5, -1] + 2*K[2, 5, 0] + K[2, 5, 1] + 2*K[2, 5, 2] + 4*K[2, 5, 3] + 3*K[2, 5, 4] + 3*K[2, 5, 5] + 3*K[2, 5, 6] + K[2, 5, 7] + K[2, 6, -3] + K[2, 6, -2] + 2*K[2, 6, -1] + K[2, 6, 0] + K[2, 6, 1] + 3*K[2, 6, 2] + 4*K[2, 6, 3] + 4*K[2, 6, 4] + K[2, 6, 5] + K[2, 6, 6] + K[2, 7, -2] + K[2, 7, -1] + K[2, 7, 0] + K[2, 7, 2] + 2*K[2, 7, 3] + K[2, 7, 4] + K[3, 4, -2] + K[3, 4, -1] + K[3, 4, 0] + K[3, 4, 1] + K[3, 4, 2] + 2*K[3, 4, 3] + 2*K[3, 4, 4] + 2*K[3, 4, 5] + 2*K[3, 4, 6] + K[3, 4, 7] + 2*K[3, 5, -3] + 2*K[3, 5, -2] + 4*K[3, 5, -1] + 2*K[3, 5, 0] + 2*K[3, 5, 1] + 2*K[3, 5, 2] + 4*K[3, 5, 3] + 4*K[3, 5, 4] + 4*K[3, 5, 5] + 3*K[3, 5, 6] + K[3, 5, 7] + K[3, 6, -4] + K[3, 6, -3] + 3*K[3, 6, -2] + 3*K[3, 6, -1] + 3*K[3, 6, 0] + 2*K[3, 6, 1] + K[3, 6, 2] + 4*K[3, 6, 3] + 3*K[3, 6, 4] + K[3, 6, 5] + K[3, 6, 6] + K[3, 7, -3] + K[3, 7, -2] + 2*K[3, 7, -1] + K[3, 7, 0] + K[3, 7, 3] + K[3, 7, 4] + K[4, 4, -3] + K[4, 4, -2] + 2*K[4, 4, -1] + K[4, 4, 0] + K[4, 4, 1] + 2*K[4, 4, 2] + K[4, 4, 3] + 2*K[4, 4, 4] + 2*K[4, 4, 5] + 2*K[4, 4, 6] + K[4, 4, 7] + 2*K[4, 5, -4] + 2*K[4, 5, -3] + 5*K[4, 5, -2] + 3*K[4, 5, -1] + 3*K[4, 5, 0] + 3*K[4, 5, 1] + 2*K[4, 5, 2] + K[4, 5, 3] + K[4, 5, 4] + 3*K[4, 5, 5] + 2*K[4, 5, 6] + K[4, 6, -5] + K[4, 6, -4] + 3*K[4, 6, -3] + 3*K[4, 6, -2] + 5*K[4, 6, -1] + 2*K[4, 6, 0] + K[4, 6, 1] + K[4, 6, 2] - K[4, 6, 3] - K[4, 6, 5] + K[4, 7, -4] + K[4, 7, -3] + 2*K[4, 7, -2] + K[4, 7, -1] + K[4, 7, 0] - K[4, 7, 2] - K[4, 7, 3] - K[4, 7, 4] + K[5, 5, -5] + K[5, 5, -4] + 3*K[5, 5, -3] + 2*K[5, 5, -2] + 3*K[5, 5, -1] + K[5, 5, 0] + K[5, 5, 1] + K[5, 5, 2] - K[5, 5, 3] - K[5, 5, 4] + K[5, 6, -4] + 2*K[5, 6, -3] + 4*K[5, 6, -2] + 2*K[5, 6, -1] + 2*K[5, 6, 0] - 2*K[5, 6, 2] - 2*K[5, 6, 3] - K[5, 6, 4] + K[5, 7, -3] + K[5, 7, -2] + K[5, 7, -1] - K[5, 7, 1] - K[5, 7, 2] - K[5, 7, 3] + K[6, 6, -3] + K[6, 6, -2] + K[6, 6, -1] - K[6, 6, 1] - K[6, 6, 2] - K[6, 6, 3]"
      ]
     },
     "execution_count": 68,
     "metadata": {},
     "output_type": "execute_result"
    }
   ],
   "source": [
    "Kb[-1,2,3] * Kb[2,3,-4]"
   ]
  },
  {
   "cell_type": "markdown",
   "metadata": {},
   "source": [
    "## Current state of the project\n",
    "\n",
    "I developed this project almost 10 years ago but it was never fully finished. I have conducted improvements and maintenance but my research has lead me elsewhere: **I am not using this project anymore**.\n",
    "\n",
    "It now has basic documentation (which could be improved a lot) and tests. It is functional on the latest Sage version and I have setup automatic tests every months so that I know if it breaks."
   ]
  },
  {
   "cell_type": "code",
   "execution_count": 72,
   "metadata": {},
   "outputs": [
    {
     "data": {
      "text/plain": [
       "Y[6, 8, 2, 8, 4, 6, 4] + Y[6, 8, 2, 8, 5, 5, 4] + Y[6, 8, 3, 7, 4, 6, 4] + Y[6, 8, 3, 7, 5, 5, 4] + Y[6, 8, 3, 8, 3, 6, 4] + 2*Y[6, 8, 3, 8, 4, 5, 4] + Y[6, 8, 3, 8, 5, 5, 3] + Y[6, 8, 4, 6, 4, 6, 4] + Y[6, 8, 4, 6, 5, 5, 4] + Y[6, 8, 4, 7, 3, 6, 4] + Y[6, 8, 4, 7, 4, 5, 4] + Y[6, 8, 4, 7, 5, 5, 3] + Y[6, 8, 4, 8, 4, 4, 4] + Y[6, 8, 5, 5, 4, 6, 4] + Y[6, 8, 5, 5, 5, 5, 4] + 2*Y[6, 8, 5, 6, 3, 6, 4] + Y[6, 8, 5, 6, 4, 5, 4] + 2*Y[6, 8, 5, 6, 5, 5, 3] + Y[6, 8, 5, 7, 2, 6, 4] + Y[6, 8, 5, 7, 5, 5, 2] + Y[6, 8, 6, 6, 2, 6, 4] + Y[6, 8, 6, 6, 3, 5, 4] + Y[6, 8, 6, 6, 3, 6, 3] + Y[6, 8, 6, 6, 4, 5, 3] + Y[6, 8, 6, 6, 5, 5, 2] + Y[6, 9, 2, 7, 4, 6, 4] + Y[6, 9, 2, 7, 5, 5, 4] + 2*Y[6, 9, 2, 8, 4, 5, 4] + 2*Y[6, 9, 3, 6, 4, 6, 4] + 2*Y[6, 9, 3, 6, 5, 5, 4] + Y[6, 9, 3, 7, 3, 6, 4] + 2*Y[6, 9, 3, 7, 4, 5, 4] + Y[6, 9, 3, 7, 5, 5, 3] + 2*Y[6, 9, 3, 8, 3, 5, 4] + 2*Y[6, 9, 3, 8, 4, 4, 4] + 2*Y[6, 9, 4, 5, 4, 6, 4] + 2*Y[6, 9, 4, 5, 5, 5, 4] + 2*Y[6, 9, 4, 6, 3, 6, 4] + 3*Y[6, 9, 4, 6, 4, 5, 4] + 2*Y[6, 9, 4, 6, 5, 5, 3] + Y[6, 9, 4, 7, 4, 4, 4] + 2*Y[6, 9, 5, 5, 3, 6, 4] + Y[6, 9, 5, 5, 4, 5, 4] + 2*Y[6, 9, 5, 5, 5, 5, 3] + 2*Y[6, 9, 5, 6, 2, 6, 4] + 2*Y[6, 9, 5, 6, 3, 5, 4] + 2*Y[6, 9, 5, 6, 5, 5, 2] + Y[6, 9, 6, 6, 2, 5, 4] + Y[6, 9, 6, 6, 3, 5, 3] + Y[6, 10, 2, 6, 4, 6, 4] + Y[6, 10, 2, 6, 5, 5, 4] + Y[6, 10, 2, 7, 4, 5, 4] + Y[6, 10, 2, 8, 4, 4, 4] + Y[6, 10, 3, 5, 4, 6, 4] + Y[6, 10, 3, 5, 5, 5, 4] + Y[6, 10, 3, 6, 3, 6, 4] + 3*Y[6, 10, 3, 6, 4, 5, 4] + Y[6, 10, 3, 6, 5, 5, 3] + Y[6, 10, 3, 7, 3, 5, 4] + 2*Y[6, 10, 3, 7, 4, 4, 4] + Y[6, 10, 3, 8, 3, 4, 4] + Y[6, 10, 4, 4, 4, 6, 4] + Y[6, 10, 4, 4, 5, 5, 4] + Y[6, 10, 4, 5, 3, 6, 4] + 2*Y[6, 10, 4, 5, 4, 5, 4] + Y[6, 10, 4, 5, 5, 5, 3] + Y[6, 10, 4, 6, 3, 5, 4] + Y[6, 10, 4, 6, 4, 4, 4] + Y[6, 10, 5, 5, 2, 6, 4] + 2*Y[6, 10, 5, 5, 3, 5, 4] + Y[6, 10, 5, 5, 4, 4, 4] + Y[6, 10, 5, 5, 5, 5, 2] + Y[6, 10, 5, 6, 2, 5, 4] + Y[7, 7, 2, 8, 4, 6, 4] + Y[7, 7, 2, 8, 5, 5, 4] + Y[7, 7, 3, 7, 4, 6, 4] + Y[7, 7, 3, 7, 5, 5, 4] + Y[7, 7, 3, 8, 3, 6, 4] + 2*Y[7, 7, 3, 8, 4, 5, 4] + Y[7, 7, 3, 8, 5, 5, 3] + Y[7, 7, 4, 6, 4, 6, 4] + Y[7, 7, 4, 6, 5, 5, 4] + Y[7, 7, 4, 7, 3, 6, 4] + Y[7, 7, 4, 7, 4, 5, 4] + Y[7, 7, 4, 7, 5, 5, 3] + Y[7, 7, 4, 8, 4, 4, 4] + Y[7, 7, 5, 5, 4, 6, 4] + Y[7, 7, 5, 5, 5, 5, 4] + 2*Y[7, 7, 5, 6, 3, 6, 4] + Y[7, 7, 5, 6, 4, 5, 4] + 2*Y[7, 7, 5, 6, 5, 5, 3] + Y[7, 7, 5, 7, 2, 6, 4] + Y[7, 7, 5, 7, 5, 5, 2] + Y[7, 7, 6, 6, 2, 6, 4] + Y[7, 7, 6, 6, 3, 5, 4] + Y[7, 7, 6, 6, 3, 6, 3] + Y[7, 7, 6, 6, 4, 5, 3] + Y[7, 7, 6, 6, 5, 5, 2] + 2*Y[7, 8, 2, 7, 4, 6, 4] + 2*Y[7, 8, 2, 7, 5, 5, 4] + 2*Y[7, 8, 2, 8, 4, 5, 4] + 2*Y[7, 8, 3, 6, 4, 6, 4] + 2*Y[7, 8, 3, 6, 5, 5, 4] + 2*Y[7, 8, 3, 7, 3, 6, 4] + 4*Y[7, 8, 3, 7, 4, 5, 4] + 2*Y[7, 8, 3, 7, 5, 5, 3] + 2*Y[7, 8, 3, 8, 3, 5, 4] + 2*Y[7, 8, 3, 8, 4, 4, 4] + 3*Y[7, 8, 4, 5, 4, 6, 4] + 3*Y[7, 8, 4, 5, 5, 5, 4] + 2*Y[7, 8, 4, 6, 3, 6, 4] + 4*Y[7, 8, 4, 6, 4, 5, 4] + 2*Y[7, 8, 4, 6, 5, 5, 3] + Y[7, 8, 4, 7, 4, 4, 4] + 2*Y[7, 8, 5, 5, 3, 6, 4] + Y[7, 8, 5, 5, 4, 5, 4] + 2*Y[7, 8, 5, 5, 5, 5, 3] + 2*Y[7, 8, 5, 6, 2, 6, 4] + 4*Y[7, 8, 5, 6, 3, 5, 4] + 2*Y[7, 8, 5, 6, 5, 5, 2] + 2*Y[7, 8, 6, 6, 2, 5, 4] + 2*Y[7, 8, 6, 6, 3, 5, 3] + 2*Y[7, 9, 2, 6, 4, 6, 4] + 2*Y[7, 9, 2, 6, 5, 5, 4] + Y[7, 9, 2, 7, 4, 5, 4] + Y[7, 9, 2, 8, 4, 4, 4] + 3*Y[7, 9, 3, 5, 4, 6, 4] + 3*Y[7, 9, 3, 5, 5, 5, 4] + 2*Y[7, 9, 3, 6, 3, 6, 4] + 5*Y[7, 9, 3, 6, 4, 5, 4] + 2*Y[7, 9, 3, 6, 5, 5, 3] + Y[7, 9, 3, 7, 3, 5, 4] + Y[7, 9, 3, 8, 3, 4, 4] + 3*Y[7, 9, 4, 4, 4, 6, 4] + 3*Y[7, 9, 4, 4, 5, 5, 4] + Y[7, 9, 4, 5, 3, 6, 4] + Y[7, 9, 4, 5, 4, 5, 4] + Y[7, 9, 4, 5, 5, 5, 3] + Y[7, 9, 4, 6, 3, 5, 4] + Y[7, 9, 5, 5, 2, 6, 4] + Y[7, 9, 5, 5, 5, 5, 2] + Y[7, 9, 5, 6, 2, 5, 4] + Y[7, 10, 2, 5, 4, 6, 4] + Y[7, 10, 2, 5, 5, 5, 4] + 2*Y[7, 10, 2, 6, 4, 5, 4] + 2*Y[7, 10, 3, 4, 4, 6, 4] + 2*Y[7, 10, 3, 4, 5, 5, 4] + Y[7, 10, 3, 5, 3, 6, 4] + 2*Y[7, 10, 3, 5, 4, 5, 4] + Y[7, 10, 3, 5, 5, 5, 3] + 2*Y[7, 10, 3, 6, 3, 5, 4] + 2*Y[7, 10, 4, 4, 4, 5, 4] + Y[7, 10, 4, 5, 4, 4, 4] + Y[8, 8, 2, 6, 4, 6, 4] + Y[8, 8, 2, 6, 5, 5, 4] + Y[8, 8, 2, 7, 4, 5, 4] + Y[8, 8, 2, 8, 4, 4, 4] + 3*Y[8, 8, 3, 5, 4, 6, 4] + 3*Y[8, 8, 3, 5, 5, 5, 4] + Y[8, 8, 3, 6, 3, 6, 4] + 3*Y[8, 8, 3, 6, 4, 5, 4] + Y[8, 8, 3, 6, 5, 5, 3] + Y[8, 8, 3, 7, 3, 5, 4] + 2*Y[8, 8, 3, 7, 4, 4, 4] + Y[8, 8, 3, 8, 3, 4, 4] + 2*Y[8, 8, 4, 4, 4, 6, 4] + 2*Y[8, 8, 4, 4, 5, 5, 4] + Y[8, 8, 4, 5, 3, 6, 4] + 3*Y[8, 8, 4, 5, 4, 5, 4] + Y[8, 8, 4, 5, 5, 5, 3] + Y[8, 8, 4, 6, 3, 5, 4] + Y[8, 8, 5, 5, 2, 6, 4] + 2*Y[8, 8, 5, 5, 3, 5, 4] + Y[8, 8, 5, 5, 5, 5, 2] + Y[8, 8, 5, 6, 2, 5, 4] + 2*Y[8, 9, 2, 5, 4, 6, 4] + 2*Y[8, 9, 2, 5, 5, 5, 4] + Y[8, 9, 2, 6, 4, 5, 4] + 4*Y[8, 9, 3, 4, 4, 6, 4] + 4*Y[8, 9, 3, 4, 5, 5, 4] + 2*Y[8, 9, 3, 5, 3, 6, 4] + 2*Y[8, 9, 3, 5, 4, 5, 4] + 2*Y[8, 9, 3, 5, 5, 5, 3] + Y[8, 9, 3, 6, 3, 5, 4] + 3*Y[8, 9, 4, 4, 4, 5, 4] + Y[8, 10, 2, 4, 4, 6, 4] + Y[8, 10, 2, 4, 5, 5, 4] + Y[8, 10, 2, 5, 4, 5, 4] + Y[8, 10, 3, 3, 4, 6, 4] + Y[8, 10, 3, 3, 5, 5, 4] + 4*Y[8, 10, 3, 4, 4, 5, 4] + Y[8, 10, 3, 5, 3, 5, 4] + Y[8, 10, 4, 4, 4, 4, 4] + Y[9, 9, 2, 4, 4, 6, 4] + Y[9, 9, 2, 4, 5, 5, 4] + Y[9, 9, 3, 3, 4, 6, 4] + Y[9, 9, 3, 3, 5, 5, 4] + 2*Y[9, 9, 3, 4, 4, 5, 4] + Y[9, 9, 4, 4, 4, 4, 4] + Y[9, 10, 2, 4, 4, 5, 4] + Y[9, 10, 3, 3, 4, 5, 4] + 2*Y[9, 10, 3, 4, 4, 4, 4] + Y[10, 10, 2, 4, 4, 4, 4] + Y[10, 10, 3, 3, 4, 4, 4]"
      ]
     },
     "execution_count": 72,
     "metadata": {},
     "output_type": "execute_result"
    }
   ],
   "source": [
    "Y[3,4,1,4,2,3,2]**2"
   ]
  },
  {
   "cell_type": "code",
   "execution_count": null,
   "metadata": {},
   "outputs": [],
   "source": []
  }
 ],
 "metadata": {
  "kernelspec": {
   "display_name": "SageMath 9.2",
   "language": "sage",
   "name": "sagemath"
  },
  "language_info": {
   "codemirror_mode": {
    "name": "ipython",
    "version": 3
   },
   "file_extension": ".py",
   "mimetype": "text/x-python",
   "name": "python",
   "nbconvert_exporter": "python",
   "pygments_lexer": "ipython3",
   "version": "3.8.5"
  }
 },
 "nbformat": 4,
 "nbformat_minor": 4
}
